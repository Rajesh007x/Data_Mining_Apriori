{
 "cells": [
  {
   "cell_type": "code",
   "execution_count": 118,
   "metadata": {},
   "outputs": [
    {
     "name": "stdout",
     "output_type": "stream",
     "text": [
      "Welcome to the simulation of the apriori algorithms. \n",
      " Please choose the dataSet you want: \n",
      " 1. Test \n",
      " 2. GroceryStore \n",
      " 3. Cars List \n",
      " 4. Games \n",
      " 5. Costco\n",
      "User chose Costco dataset\n"
     ]
    }
   ],
   "source": [
    "import sys\n",
    "import time\n",
    "import numpy as np\n",
    "import pandas as pd\n",
    "\n",
    "print(\"Welcome to the simulation of the apriori algorithms. \\n Please choose the dataSet you want: \\n 1. Test \\n 2. GroceryStore \\n 3. Cars List \\n 4. Games \\n 5. Costco\")\n",
    "while True:\n",
    "    choice_of_data=input()\n",
    "    if(choice_of_data=='1'):\n",
    "        dataList=pd.read_csv('test.csv')\n",
    "        print('User chose Test dataset')\n",
    "        break\n",
    "    elif(choice_of_data=='2'):\n",
    "        dataList=pd.read_csv('GroceryStoreDataSet.csv')\n",
    "        print('User chose GroceryStore dataset')\n",
    "        break\n",
    "    elif(choice_of_data=='3'):\n",
    "        dataList=pd.read_csv('Cars_List.csv')\n",
    "        print('User chose Cars List dataset')\n",
    "        break\n",
    "    elif(choice_of_data=='4'):\n",
    "        dataList=pd.read_csv('Games_Transaction_List.csv')\n",
    "        print('User chose Games dataset')\n",
    "        break\n",
    "    elif(choice_of_data=='5'):\n",
    "        dataList=pd.read_csv('Costco.csv')\n",
    "        print('User chose Costco dataset')\n",
    "        break\n",
    "    else:\n",
    "        print(\"Invalid data, please enter the number corresponding to the data\")\n",
    "        break     \n",
    "    \n",
    "\n",
    "#Games_List = pd.read_csv('GroceryStoreDataSet.csv')\n",
    "#Test_List = pd.read_csv('Games_Transaction_List.csv')\n"
   ]
  },
  {
   "cell_type": "code",
   "execution_count": 119,
   "metadata": {},
   "outputs": [
    {
     "name": "stdout",
     "output_type": "stream",
     "text": [
      "Enter the Minimum Support (in percentage) :  Enter the Minimum Confidence (in percentage) :  \n",
      "\n",
      "The minimum support is : 40\n",
      "The minimum support is : 70\n"
     ]
    }
   ],
   "source": [
    "print(\"Enter the Minimum Support (in percentage) : \", end=\" \")\n",
    "minsupport = input()\n",
    "print(\"Enter the Minimum Confidence (in percentage) : \", end=\" \")\n",
    "minconfidence = input()\n",
    "min_support = float(minsupport)/100\n",
    "min_conf = float(minconfidence)/100\n",
    "print('\\n')\n",
    "print(\"The minimum support is :\", minsupport)\n",
    "print(\"The minimum support is :\",minconfidence)\n"
   ]
  },
  {
   "cell_type": "code",
   "execution_count": 120,
   "metadata": {},
   "outputs": [
    {
     "data": {
      "text/plain": "[['egg', 'milk'],\n ['cheese', 'pasta', 'sauce'],\n ['oregano', 'pasta', 'cheese', 'milk'],\n ['oil', 'egg', 'oregano', 'meat', 'oatbar', 'milk'],\n ['whipped_cream', 'milk'],\n ['butter', 'oil', 'sauce', 'meat', 'milk'],\n ['raisins', 'milk', 'oatbar', 'whipped_cream'],\n ['chocolate', 'milk', 'whipped_cream', 'raisins'],\n ['chips', 'chocolate'],\n ['cheetos', 'chocolate', 'chips', 'popcorn'],\n ['chips', 'popcorn'],\n ['raisins', 'milk'],\n ['milk', 'whipped_cream'],\n ['egg', 'meat', 'whipped_cream', 'milk'],\n ['chocolate', 'oatbar'],\n ['chocolate', 'popcorn', 'cheese'],\n ['milk', 'whipped_cream'],\n ['honey', 'milk', 'egg', 'whipped_cream'],\n ['oil', 'egg', 'milk', 'whipped_cream'],\n ['butter', 'pasta', 'whipped_cream']]"
     },
     "execution_count": 120,
     "metadata": {},
     "output_type": "execute_result"
    }
   ],
   "source": [
    "def load_transactions(dataList):\n",
    "    Transactions = []\n",
    "    df_items = dataList['TransactionList']\n",
    "    comma_splitted_df = df_items.apply(lambda x: x.split(','))\n",
    "    for i in comma_splitted_df:\n",
    "        Transactions.append(i)\n",
    "    return Transactions\n",
    "load_transactions(dataList)\n",
    "\n",
    "Transactions = load_transactions(dataList)\n",
    "Transactions"
   ]
  },
  {
   "cell_type": "code",
   "execution_count": 121,
   "metadata": {},
   "outputs": [],
   "source": [
    "class Rule:\n",
    "\n",
    "    def __init__(self, left, right, all):\n",
    "        self.left = list(left)\n",
    "        self.left.sort()\n",
    "        self.right = list(right)\n",
    "        self.right.sort()\n",
    "        self.all = all\n",
    "\n",
    "    def __str__(self):\n",
    "        return \",\".join(self.left)+\" ==> \"+\",\".join(self.right)\n",
    "\n",
    "    def __hash__(self):\n",
    "        return hash(str(self))"
   ]
  },
  {
   "cell_type": "code",
   "execution_count": 122,
   "metadata": {},
   "outputs": [],
   "source": [
    "def scan(Transactions, Ck):\n",
    "    count = {s: 0 for s in Ck}\n",
    "    n = len(Transactions)\n",
    "    for t in Transactions:\n",
    "        for fset in Ck:\n",
    "            if fset.issubset(t):\n",
    "                count[fset] += 1\n",
    "    \n",
    "    return {fset: support/n for fset, support in count.items() if support/n>=min_support}"
   ]
  },
  {
   "cell_type": "code",
   "execution_count": 123,
   "metadata": {},
   "outputs": [],
   "source": [
    "def calculateCandidate(Lk):\n",
    "    res = []\n",
    "    print(\"len Lk\", len(Lk))\n",
    "    for i in range(len(Lk)):\n",
    "        for j in range(i+1, len(Lk)):\n",
    "            it1 = Lk[i]\n",
    "            it2 = Lk[j]\n",
    "            it11 = list(it1)\n",
    "            it22 = list(it2)\n",
    "            it11.sort()\n",
    "            it22.sort()\n",
    "            print(\"it11\",it11)\n",
    "            print(\"it22\",it22)\n",
    "            if it11[:len(it1)-1] == it22[:len(it1)-1]:\n",
    "                res.append(it1 | it2)\n",
    "                print(\"Res: \", res)\n",
    "    return res"
   ]
  },
  {
   "cell_type": "code",
   "execution_count": 124,
   "metadata": {},
   "outputs": [],
   "source": [
    "def calculate_frequency_support():\n",
    "    support = {}\n",
    "    candidate = [[]]\n",
    "    Lk = [[]]\n",
    "    C1 = set()\n",
    "    for t in Transactions:\n",
    "        for item in t:\n",
    "            C1.add(frozenset([item]))\n",
    "            #print(C1)\n",
    "            #print(\"*****\")\n",
    "    print(\"----------------------------------------\")\n",
    "    print(\"C1: \", C1)\n",
    "    candidate.append(C1)\n",
    "    #print(candidate)\n",
    "    print(\"----------------------------------------\")\n",
    "    print(\"Transactions: \",Transactions)\n",
    "    count = scan(Transactions, C1)\n",
    "    print(\"----------------------------------------\")\n",
    "    print(\"Count: \", count)\n",
    "    Lk.append(list(count.keys()))\n",
    "    print(\"----------------------------------------\")\n",
    "    print(\"Lk: \", Lk)\n",
    "    support.update(count)\n",
    "    print(\"----------------------------------------\")\n",
    "    print(\"support: \", support)\n",
    "    print(\"----------------------------------------\")\n",
    "    print(\"candidate: \",candidate)\n",
    "    k = 1\n",
    "    while len(Lk[k]) > 0:\n",
    "        print(\"+++++++++++++++++++++++++++++++++++++++\")\n",
    "        print(\"k=\", k)\n",
    "        print(\"Lk[k]: \", Lk[k])\n",
    "        candidate.append(calculateCandidate(Lk[k]))\n",
    "        print(\"candidate: \", candidate)\n",
    "        print(\"candidate[k+1]: \",candidate[k+1])\n",
    "        count = scan(Transactions, candidate[k+1])\n",
    "        support.update(count)\n",
    "        Lk.append(list(count.keys()))\n",
    "        k += 1\n",
    "    return Lk, support"
   ]
  },
  {
   "cell_type": "code",
   "execution_count": 125,
   "metadata": {},
   "outputs": [],
   "source": [
    "def EvaluateSecondaryRules(fs, rights, fresult, support):\n",
    "    rlength = len(rights[0])\n",
    "    totlength = len(fs)\n",
    "    if totlength-rlength > 0:\n",
    "        rights = calculateCandidate(rights)\n",
    "        new_right = []\n",
    "        for right in rights:\n",
    "            left = fs - right\n",
    "            if len(left) == 0:\n",
    "                continue\n",
    "            confidence = support[fs] / support[left]\n",
    "            if confidence >= min_conf:\n",
    "                fresult.append([Rule(left, right, fs), support[fs],  confidence])\n",
    "                new_right.append(right)\n",
    "\n",
    "        if len(new_right) > 1:\n",
    "            EvaluateSecondaryRules(fs, new_right, fresult, support)"
   ]
  },
  {
   "cell_type": "code",
   "execution_count": 126,
   "metadata": {},
   "outputs": [],
   "source": [
    "def EvaluateAssociationRules(frequent, support):\n",
    "    fresult = []\n",
    "    for i in range(2, len(frequent)):\n",
    "        if len(frequent[i]) == 0:\n",
    "            break\n",
    "        freq_sets = frequent[i]\n",
    "\n",
    "        for fs in freq_sets:\n",
    "            for right in [frozenset([x]) for x in fs]:\n",
    "                left = fs-right\n",
    "                confidence = support[fs] / support[left]\n",
    "                if confidence >= min_conf:\n",
    "                    fresult.append([Rule(left, right, fs), support[fs], confidence])\n",
    "\n",
    "        if len(freq_sets[0]) != 2:\n",
    "\n",
    "            for fs in freq_sets:\n",
    "                right = [frozenset([x]) for x in fs]\n",
    "                EvaluateSecondaryRules(fs, right, fresult, support)\n",
    "\n",
    "    fresult.sort(key=lambda x: str(x[0]))\n",
    "    return fresult"
   ]
  },
  {
   "cell_type": "code",
   "execution_count": 127,
   "metadata": {},
   "outputs": [
    {
     "name": "stdout",
     "output_type": "stream",
     "text": [
      "----------------------------------------\n",
      "C1:  {frozenset({'chips'}), frozenset({'pasta'}), frozenset({'oil'}), frozenset({'chocolate'}), frozenset({'sauce'}), frozenset({'honey'}), frozenset({'butter'}), frozenset({'cheese'}), frozenset({'oregano'}), frozenset({'oatbar'}), frozenset({'raisins'}), frozenset({'cheetos'}), frozenset({'popcorn'}), frozenset({'egg'}), frozenset({'milk'}), frozenset({'whipped_cream'}), frozenset({'meat'})}\n",
      "----------------------------------------\n",
      "Transactions:  [['egg', 'milk'], ['cheese', 'pasta', 'sauce'], ['oregano', 'pasta', 'cheese', 'milk'], ['oil', 'egg', 'oregano', 'meat', 'oatbar', 'milk'], ['whipped_cream', 'milk'], ['butter', 'oil', 'sauce', 'meat', 'milk'], ['raisins', 'milk', 'oatbar', 'whipped_cream'], ['chocolate', 'milk', 'whipped_cream', 'raisins'], ['chips', 'chocolate'], ['cheetos', 'chocolate', 'chips', 'popcorn'], ['chips', 'popcorn'], ['raisins', 'milk'], ['milk', 'whipped_cream'], ['egg', 'meat', 'whipped_cream', 'milk'], ['chocolate', 'oatbar'], ['chocolate', 'popcorn', 'cheese'], ['milk', 'whipped_cream'], ['honey', 'milk', 'egg', 'whipped_cream'], ['oil', 'egg', 'milk', 'whipped_cream'], ['butter', 'pasta', 'whipped_cream']]\n",
      "----------------------------------------\n",
      "Count:  {frozenset({'milk'}): 0.65, frozenset({'whipped_cream'}): 0.45}\n",
      "----------------------------------------\n",
      "Lk:  [[], [frozenset({'milk'}), frozenset({'whipped_cream'})]]\n",
      "----------------------------------------\n",
      "support:  {frozenset({'milk'}): 0.65, frozenset({'whipped_cream'}): 0.45}\n",
      "----------------------------------------\n",
      "candidate:  [[], {frozenset({'chips'}), frozenset({'pasta'}), frozenset({'oil'}), frozenset({'chocolate'}), frozenset({'sauce'}), frozenset({'honey'}), frozenset({'butter'}), frozenset({'cheese'}), frozenset({'oregano'}), frozenset({'oatbar'}), frozenset({'raisins'}), frozenset({'cheetos'}), frozenset({'popcorn'}), frozenset({'egg'}), frozenset({'milk'}), frozenset({'whipped_cream'}), frozenset({'meat'})}]\n",
      "+++++++++++++++++++++++++++++++++++++++\n",
      "k= 1\n",
      "Lk[k]:  [frozenset({'milk'}), frozenset({'whipped_cream'})]\n",
      "len Lk 2\n",
      "it11 ['milk']\n",
      "it22 ['whipped_cream']\n",
      "Res:  [frozenset({'milk', 'whipped_cream'})]\n",
      "candidate:  [[], {frozenset({'chips'}), frozenset({'pasta'}), frozenset({'oil'}), frozenset({'chocolate'}), frozenset({'sauce'}), frozenset({'honey'}), frozenset({'butter'}), frozenset({'cheese'}), frozenset({'oregano'}), frozenset({'oatbar'}), frozenset({'raisins'}), frozenset({'cheetos'}), frozenset({'popcorn'}), frozenset({'egg'}), frozenset({'milk'}), frozenset({'whipped_cream'}), frozenset({'meat'})}, [frozenset({'milk', 'whipped_cream'})]]\n",
      "candidate[k+1]:  [frozenset({'milk', 'whipped_cream'})]\n",
      "+++++++++++++++++++++++++++++++++++++++\n",
      "k= 2\n",
      "Lk[k]:  [frozenset({'milk', 'whipped_cream'})]\n",
      "len Lk 1\n",
      "candidate:  [[], {frozenset({'chips'}), frozenset({'pasta'}), frozenset({'oil'}), frozenset({'chocolate'}), frozenset({'sauce'}), frozenset({'honey'}), frozenset({'butter'}), frozenset({'cheese'}), frozenset({'oregano'}), frozenset({'oatbar'}), frozenset({'raisins'}), frozenset({'cheetos'}), frozenset({'popcorn'}), frozenset({'egg'}), frozenset({'milk'}), frozenset({'whipped_cream'}), frozenset({'meat'})}, [frozenset({'milk', 'whipped_cream'})], []]\n",
      "candidate[k+1]:  []\n",
      "Frequency:  [[], [frozenset({'milk'}), frozenset({'whipped_cream'})], [frozenset({'milk', 'whipped_cream'})], []]\n",
      "Support:  {frozenset({'milk'}): 0.65, frozenset({'whipped_cream'}): 0.45, frozenset({'milk', 'whipped_cream'}): 0.4}\n",
      "\n",
      "----- > Association With Support and Confidence: < -------\n",
      "\n",
      "Rule:  whipped_cream ==> milk\n",
      "Support:  0.4\n",
      "Confidence:  0.888888888888889\n",
      "\n",
      "\n",
      "-------------------------- RUNNING TIME: --------------------------------------\n",
      "The Runtime of the program is: 0.0018601417541503906seconds\n",
      "---------------------------------------------------------------------------\n",
      "\n"
     ]
    }
   ],
   "source": [
    "if __name__ == '__main__':\n",
    "\n",
    "    start_time = time.time()\n",
    "    freq, supp = calculate_frequency_support()\n",
    "    print(\"Frequency: \",freq)\n",
    "    print(\"Support: \", supp)\n",
    "    fresult = EvaluateAssociationRules(freq, supp)\n",
    "    end_time = time.time()\n",
    "    \n",
    "    print(\"\\n----- > Association With Support and Confidence: < -------\\n\")\n",
    "    for x in fresult:\n",
    "        print(\"Rule: \",x[0])\n",
    "        print(\"Support: \", x[1])\n",
    "        print(\"Confidence: \", x[2])\n",
    "        print(\"\\n\")\n",
    "        \n",
    "    print(\"-------------------------- RUNNING TIME:------------------------------------\")\n",
    "    print(\"The Runtime of the program is: \" + str(end_time - start_time) + \"seconds\")\n",
    "    \n",
    "    print(\"---------------------------------------------------------------------------\\n\")"
   ]
  }
 ],
 "metadata": {
  "kernelspec": {
   "display_name": "Python 3.8.5 64-bit ('base': conda)",
   "metadata": {
    "interpreter": {
     "hash": "dca0ade3e726a953b501b15e8e990130d2b7799f14cfd9f4271676035ebe5511"
    }
   },
   "name": "python3"
  },
  "language_info": {
   "codemirror_mode": {
    "name": "ipython",
    "version": 3
   },
   "file_extension": ".py",
   "mimetype": "text/x-python",
   "name": "python",
   "nbconvert_exporter": "python",
   "pygments_lexer": "ipython3",
   "version": "3.8.5"
  },
  "orig_nbformat": 2
 },
 "nbformat": 4,
 "nbformat_minor": 2
}